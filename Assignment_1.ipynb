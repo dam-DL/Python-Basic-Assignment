{
 "cells": [
  {
   "cell_type": "markdown",
   "id": "12c149f6",
   "metadata": {},
   "source": [
    "# Assignment_1\n"
   ]
  },
  {
   "cell_type": "markdown",
   "id": "593f34b5",
   "metadata": {},
   "source": [
    "# 1. In the below elements which of them are values or an expression? eg:- values can be integer or string and expressions will be mathematical operators."
   ]
  },
  {
   "cell_type": "markdown",
   "id": "f8a359ab",
   "metadata": {},
   "source": [
    "* --> Expressions, 'hello' --> values , -87.8 --> values   , - --> values , / --> Expressions , + --> Expressions , 6 --> values"
   ]
  },
  {
   "cell_type": "markdown",
   "id": "a98b1b87",
   "metadata": {},
   "source": [
    "# 2. What is the difference between string and variable?"
   ]
  },
  {
   "cell_type": "markdown",
   "id": "a914e732",
   "metadata": {},
   "source": [
    "a) A string is a literal text string, i.e. 'Hello'. whereas a variable is something that stores data - it can store a string, int, float, class, etc.\n",
    "\n",
    "b) All strings are variables, but not all variables are strings.\n",
    "\n",
    "c) Variables in programs are references to values that have types. String is simply one of the handful of types that Python uses along with various number types, collection types (list, string , tuple, dict, and set), objects and a few more.\n",
    "\n",
    "d) A variable can hold a string, but a string can't hold a variable.\n",
    "\n",
    "e) A variable is basically the name of the location in the primary memory of your computer. This can be chosen by you. A variable can store everything from strings to numbers. whereas A string is the values inside the quotes assigned to a string.\n",
    "\n",
    "f)In python anything you assign to a variable using quotes (single or double) will be considered as a string. Thus, a string is one of several types of a variable.\n",
    "\n",
    "a = \"10\" b = \"20\" print(a+b) #prints 1020\n",
    "\n",
    "a = 10 b = 20 print(a+b) #prints 30 So, in the above example, (a+b) returns 1020 in the first case (string concatenation of 10 and 20), whereas in the second case, it returns 30 since it interprets a and b as integers at run-time."
   ]
  },
  {
   "cell_type": "markdown",
   "id": "afe6c12e",
   "metadata": {},
   "source": [
    "# 3. Describe three different data types."
   ]
  },
  {
   "cell_type": "markdown",
   "id": "d89e42ab",
   "metadata": {},
   "source": [
    "a)List is a collection which is ordered and changeable. Allows duplicate members. ex:-mylist = [ \"banana\",\"apple\", \"cherry\"]\n",
    "\n",
    "b)Tuple is a collection which is ordered and unchangeable. Allows duplicate members. ex:-tuple1 = (\"abc\", 34, True, 40, \"male\")\n",
    "\n",
    "c)Set is a collection which is unordered and unindexed. No duplicate members. ex:-myset = {\"apple\", \"banana\", \"cherry\"}\n",
    "\n",
    "d)Dictionary is a collection which is ordered* and changeable. No duplicate members. ex:-thisdict = { \"brand\": \"Ford\", \"model\": \"Mustang\", \"year\": 1964 }"
   ]
  },
  {
   "cell_type": "markdown",
   "id": "f77fcf69",
   "metadata": {},
   "source": [
    "# 4. What is an expression made up of? What do all expressions do?"
   ]
  },
  {
   "cell_type": "markdown",
   "id": "c4910b26",
   "metadata": {},
   "source": [
    "An expression is a combination of values and operators. All expressions evaluate (that is, reduce) to a single value."
   ]
  },
  {
   "cell_type": "markdown",
   "id": "dc8449bc",
   "metadata": {},
   "source": [
    "# 5. This assignment statements, like spam = 10. What is the difference between an expression and a statement?"
   ]
  },
  {
   "cell_type": "markdown",
   "id": "77403f02",
   "metadata": {},
   "source": [
    "a) An expression evaluates to a single value. A statement does not.\n",
    "\n",
    "b) Statements represent an action or command e.g print statements, assignment statements.\n",
    "\n",
    "    print ('hello'), x = 1, spam = 10.\n",
    "\n",
    "  whereas\n",
    "\n",
    " Expression is a combination of variables, operations and values that yields a result value.\n",
    "\n",
    "  5 * 5 # yields 25"
   ]
  },
  {
   "cell_type": "markdown",
   "id": "cb9eb844",
   "metadata": {},
   "source": [
    "# 6. After running the following code, what does the variable bacon contain?\n",
    "bacon = 22\n",
    "bacon + 1\n"
   ]
  },
  {
   "cell_type": "code",
   "execution_count": 2,
   "id": "1ed6b1e0",
   "metadata": {},
   "outputs": [],
   "source": [
    "bacon = 22"
   ]
  },
  {
   "cell_type": "code",
   "execution_count": 3,
   "id": "6e79e480",
   "metadata": {},
   "outputs": [
    {
     "data": {
      "text/plain": [
       "23"
      ]
     },
     "execution_count": 3,
     "metadata": {},
     "output_type": "execute_result"
    }
   ],
   "source": [
    "bacon + 1"
   ]
  },
  {
   "cell_type": "code",
   "execution_count": 4,
   "id": "bc3721f6",
   "metadata": {},
   "outputs": [
    {
     "data": {
      "text/plain": [
       "22"
      ]
     },
     "execution_count": 4,
     "metadata": {},
     "output_type": "execute_result"
    }
   ],
   "source": [
    "bacon"
   ]
  },
  {
   "cell_type": "markdown",
   "id": "c7155585",
   "metadata": {},
   "source": [
    "The bacon variable is set to 20. The bacon + 1 expression does not reassign the value in bacon (that would need an assignment statement: bacon = bacon + 1)."
   ]
  },
  {
   "cell_type": "markdown",
   "id": "d771f9be",
   "metadata": {},
   "source": [
    "# 7. What should the values of the following two terms be?\n",
    "'spam' + 'spamspam'\n",
    "'spam' * 3\n"
   ]
  },
  {
   "cell_type": "code",
   "execution_count": 5,
   "id": "4587ad76",
   "metadata": {},
   "outputs": [
    {
     "data": {
      "text/plain": [
       "'spamspamspam'"
      ]
     },
     "execution_count": 5,
     "metadata": {},
     "output_type": "execute_result"
    }
   ],
   "source": [
    "'spam' + 'spamspam'"
   ]
  },
  {
   "cell_type": "code",
   "execution_count": 6,
   "id": "41e5a98c",
   "metadata": {},
   "outputs": [
    {
     "data": {
      "text/plain": [
       "'spamspamspam'"
      ]
     },
     "execution_count": 6,
     "metadata": {},
     "output_type": "execute_result"
    }
   ],
   "source": [
    " 'spam' * 3"
   ]
  },
  {
   "cell_type": "markdown",
   "id": "194958ad",
   "metadata": {},
   "source": [
    "Both expressions evaluate to the string 'spamspamspam'."
   ]
  },
  {
   "cell_type": "markdown",
   "id": "c8741c9d",
   "metadata": {},
   "source": [
    "# 8. Why is eggs a valid variable name while 100 is invalid?"
   ]
  },
  {
   "cell_type": "markdown",
   "id": "027235f0",
   "metadata": {},
   "source": [
    "Variable names cannot start with a number."
   ]
  },
  {
   "cell_type": "markdown",
   "id": "68c102d7",
   "metadata": {},
   "source": [
    "# 9. What three functions can be used to get the integer, floating-point number, or string version of a value?"
   ]
  },
  {
   "cell_type": "markdown",
   "id": "33093fff",
   "metadata": {},
   "source": [
    "int() , float(), str()"
   ]
  },
  {
   "cell_type": "markdown",
   "id": "dc6b9ca9",
   "metadata": {},
   "source": [
    "# 10. Why does this expression cause an error? How can you fix it?\n",
    "'I have eaten ' + 99 + ' burritos.'\n"
   ]
  },
  {
   "cell_type": "markdown",
   "id": "e925e019",
   "metadata": {},
   "source": [
    " The expression causes an error because 99 is an integer, and only strings can be concatenated to other strings with the + operator. The correct way is I have eaten ' + str(99) + ' burritos.'."
   ]
  },
  {
   "cell_type": "code",
   "execution_count": null,
   "id": "a22ed231",
   "metadata": {},
   "outputs": [],
   "source": []
  }
 ],
 "metadata": {
  "kernelspec": {
   "display_name": "Python 3 (ipykernel)",
   "language": "python",
   "name": "python3"
  },
  "language_info": {
   "codemirror_mode": {
    "name": "ipython",
    "version": 3
   },
   "file_extension": ".py",
   "mimetype": "text/x-python",
   "name": "python",
   "nbconvert_exporter": "python",
   "pygments_lexer": "ipython3",
   "version": "3.9.7"
  }
 },
 "nbformat": 4,
 "nbformat_minor": 5
}
