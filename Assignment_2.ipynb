{
 "cells": [
  {
   "cell_type": "markdown",
   "id": "0d01c893",
   "metadata": {},
   "source": [
    "# 1.What are the two values of the Boolean data type? How do you write them?\n",
    "True and False, using capital T and F, with the rest of the word in lowercase"
   ]
  },
  {
   "cell_type": "markdown",
   "id": "bab29440",
   "metadata": {},
   "source": [
    "# 2. What are the three different types of Boolean operators?\n",
    "AND, OR, and NOT.\n"
   ]
  },
  {
   "cell_type": "markdown",
   "id": "abcf92ea",
   "metadata": {},
   "source": [
    "# 3. Make a list of each Boolean operator's truth tables (i.e. every possible combination of Boolean values for the operator and what it evaluate ).\n",
    "True and True is True.\n",
    "\n",
    "True and False is False.\n",
    "\n",
    "False and True is False.\n",
    "\n",
    "False and False is False.\n",
    "\n",
    "True or True is True.\n",
    "\n",
    "True or False is True.\n",
    "\n",
    "False or True is True.\n",
    "\n",
    "False or False is False.\n",
    "\n",
    "not True is False.\n",
    "\n",
    "not False is True."
   ]
  },
  {
   "cell_type": "markdown",
   "id": "41f9dd9a",
   "metadata": {},
   "source": [
    "# 4. What are the values of the following expressions?\n",
    "(5 > 4) and (3 == 5) \n",
    "not (5 > 4) \n",
    "(5 > 4) or (3 == 5) \n",
    "not ((5 > 4) or (3 == 5)) \n",
    "(True and True) and (True == False) \n",
    "(not False) or (not True)"
   ]
  },
  {
   "cell_type": "code",
   "execution_count": 1,
   "id": "8b1b50c5",
   "metadata": {},
   "outputs": [
    {
     "data": {
      "text/plain": [
       "False"
      ]
     },
     "execution_count": 1,
     "metadata": {},
     "output_type": "execute_result"
    }
   ],
   "source": [
    "(5 > 4) and (3 == 5)"
   ]
  },
  {
   "cell_type": "code",
   "execution_count": 2,
   "id": "a14c0862",
   "metadata": {},
   "outputs": [
    {
     "data": {
      "text/plain": [
       "False"
      ]
     },
     "execution_count": 2,
     "metadata": {},
     "output_type": "execute_result"
    }
   ],
   "source": [
    "not (5 > 4)"
   ]
  },
  {
   "cell_type": "code",
   "execution_count": 3,
   "id": "d470c55e",
   "metadata": {},
   "outputs": [
    {
     "data": {
      "text/plain": [
       "True"
      ]
     },
     "execution_count": 3,
     "metadata": {},
     "output_type": "execute_result"
    }
   ],
   "source": [
    "(5 > 4) or (3 == 5) "
   ]
  },
  {
   "cell_type": "code",
   "execution_count": 4,
   "id": "17f83b10",
   "metadata": {},
   "outputs": [
    {
     "data": {
      "text/plain": [
       "False"
      ]
     },
     "execution_count": 4,
     "metadata": {},
     "output_type": "execute_result"
    }
   ],
   "source": [
    "not ((5 > 4) or (3 == 5)) "
   ]
  },
  {
   "cell_type": "code",
   "execution_count": 5,
   "id": "5abb3480",
   "metadata": {},
   "outputs": [
    {
     "data": {
      "text/plain": [
       "False"
      ]
     },
     "execution_count": 5,
     "metadata": {},
     "output_type": "execute_result"
    }
   ],
   "source": [
    "(True and True) and (True == False) "
   ]
  },
  {
   "cell_type": "code",
   "execution_count": 6,
   "id": "0f87008a",
   "metadata": {},
   "outputs": [
    {
     "data": {
      "text/plain": [
       "True"
      ]
     },
     "execution_count": 6,
     "metadata": {},
     "output_type": "execute_result"
    }
   ],
   "source": [
    "(not False) or (not True)"
   ]
  },
  {
   "cell_type": "markdown",
   "id": "188d264b",
   "metadata": {},
   "source": [
    "# 5. What are the six comparison operators?\n",
    "==, !=, <, >, <=, and >=."
   ]
  },
  {
   "cell_type": "markdown",
   "id": "89f33afd",
   "metadata": {},
   "source": [
    "# 6. How do you tell the difference between the equal to and assignment operators?Describe a condition and when you would use one.\n",
    "== is the equal to operator that compares two values and evaluates to a Boolean, while = is the assignment operator that stores a value in a variable.\n",
    "\n",
    "For example:-\n",
    "\n",
    "x=10 y=20 z=20\n",
    "\n",
    "(x==y) is False because we assigned different values to x and y.\n",
    "\n",
    "(y==z) is True because we assign equal values to y and z.\n",
    "\n",
    "A condition is an expression used in a flow control statement that evaluates to a Boolean value."
   ]
  },
  {
   "cell_type": "markdown",
   "id": "dd28839c",
   "metadata": {},
   "source": [
    "# 7. Identify the three blocks in this code:\n",
    "spam = 0 if spam == 10: print('eggs') if spam > 5: print('bacon') else: print('ham') print('spam') print('spam')\n",
    "\n",
    "The three blocks are everything inside the if statement and the lines print('bacon') and print('ham').\n",
    "\n",
    "print('eggs') if spam > 5: print('bacon') else: print('ham') print('spam')"
   ]
  },
  {
   "cell_type": "markdown",
   "id": "d4f6c7d2",
   "metadata": {},
   "source": [
    "# 8. Write code that prints Hello if 1 is stored in spam, prints Howdy if 2 is stored in spam, and prints Greetings! if anything else is stored in spam.\n",
    "The code:\n",
    "\n"
   ]
  },
  {
   "cell_type": "code",
   "execution_count": 7,
   "id": "05996462",
   "metadata": {},
   "outputs": [
    {
     "name": "stdout",
     "output_type": "stream",
     "text": [
      "Enter the spam no. you want store\n",
      "2\n",
      "Howdy\n"
     ]
    }
   ],
   "source": [
    "print(\"Enter the spam no. you want store\")\n",
    "spam=int(input())\n",
    "if spam == 1: \n",
    "    print('Hello')\n",
    "elif spam == 2: \n",
    "    print('Howdy') \n",
    "else: \n",
    "    print('Greetings!')\n",
    "    "
   ]
  },
  {
   "cell_type": "markdown",
   "id": "6bb7a955",
   "metadata": {},
   "source": [
    "# 9. If your programme is stuck in an endless loop, what keys you’ll press?\n",
    "Press CTRL+C to stop a program stuck in an infinite loop."
   ]
  },
  {
   "cell_type": "markdown",
   "id": "c14c6d65",
   "metadata": {},
   "source": [
    "# 10. How can you tell the difference between break and continue?\n"
   ]
  },
  {
   "cell_type": "markdown",
   "id": "e11afd16",
   "metadata": {},
   "source": [
    "1)The Break statement is used to exit from the loop constructs,continue statement is not used to exit from the loop constructs.\n",
    "\n",
    "2)The break statement is usually used with the switch statement, and it can also use it within the while loop, do-while loop, or the for-loop.\tThe continue statement is not used with the switch statement, but it can be used within the while loop, do-while loop, or for-loop.\n",
    "\n",
    "3)When a break statement is encountered then the control is exited from the loop construct immediately.When the continue statement is encountered then the control automatically passed from the beginning of the loop statement.\n",
    "\n",
    "4)Syntax:break;\tSyntax:continue;"
   ]
  },
  {
   "cell_type": "markdown",
   "id": "db30f5a5",
   "metadata": {},
   "source": [
    "# 11. In a for loop, what is the difference between range(10), range(0, 10), and range(0, 10, 1)?\n",
    "\n",
    "They all do the same thing. The range(10) call ranges from 0 up to (but not including) 10, range(0, 10) explicitly tells the loop to start at 0, and range(0, 10, 1) explicitly tells the loop to increase the variable by 1 on each iteration."
   ]
  },
  {
   "cell_type": "markdown",
   "id": "827ec48f",
   "metadata": {},
   "source": [
    "# 12. Write a short program that prints the numbers 1 to 10 using a for loop. Then write an equivalent program that prints the numbers 1 to 10 using a while loop."
   ]
  },
  {
   "cell_type": "code",
   "execution_count": 8,
   "id": "0b2d4327",
   "metadata": {},
   "outputs": [
    {
     "name": "stdout",
     "output_type": "stream",
     "text": [
      "1\n",
      "2\n",
      "3\n",
      "4\n",
      "5\n",
      "6\n",
      "7\n",
      "8\n",
      "9\n",
      "10\n"
     ]
    }
   ],
   "source": [
    "for i in range (1,11):\n",
    "    print(i)\n"
   ]
  },
  {
   "cell_type": "code",
   "execution_count": 10,
   "id": "d53967c8",
   "metadata": {},
   "outputs": [
    {
     "name": "stdout",
     "output_type": "stream",
     "text": [
      "1\n",
      "2\n",
      "3\n",
      "4\n",
      "5\n",
      "6\n",
      "7\n",
      "8\n",
      "9\n",
      "10\n"
     ]
    }
   ],
   "source": [
    "i=1\n",
    "while i<11:\n",
    "    print(i)\n",
    "    i=i+1\n",
    "    \n"
   ]
  },
  {
   "cell_type": "markdown",
   "id": "ec7de0f2",
   "metadata": {},
   "source": [
    "# 13. If you had a function named bacon() inside a module named spam, how would you call it after importing spam?\n",
    "This function can be called with spam.bacon()"
   ]
  },
  {
   "cell_type": "code",
   "execution_count": null,
   "id": "e10b7219",
   "metadata": {},
   "outputs": [],
   "source": []
  }
 ],
 "metadata": {
  "kernelspec": {
   "display_name": "Python 3 (ipykernel)",
   "language": "python",
   "name": "python3"
  },
  "language_info": {
   "codemirror_mode": {
    "name": "ipython",
    "version": 3
   },
   "file_extension": ".py",
   "mimetype": "text/x-python",
   "name": "python",
   "nbconvert_exporter": "python",
   "pygments_lexer": "ipython3",
   "version": "3.9.7"
  }
 },
 "nbformat": 4,
 "nbformat_minor": 5
}
